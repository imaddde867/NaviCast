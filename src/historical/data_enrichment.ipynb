{
 "cells": [
  {
   "cell_type": "code",
   "execution_count": null,
   "metadata": {},
   "outputs": [],
   "source": [
    "import pandas as pd\n",
    "import psycopg2\n",
    "from database.config import DB_CONFIG\n",
    "\n",
    "# Load raw data\n",
    "conn = psycopg2.connect(**DB_CONFIG)\n",
    "df = pd.read_sql(\"SELECT * FROM raw_ais_data\", conn)\n",
    "\n",
    "# Clean data \n",
    "df = df[df['latitude'].notna() & df['longitude'].notna()]\n",
    "\n",
    "# Train ML model \n",
    "from sklearn.ensemble import RandomForestRegressor\n",
    "X = df[['latitude', 'longitude', 'speed']]\n",
    "y = df[['latitude_future', 'longitude_future']]\n",
    "model = RandomForestRegressor()\n",
    "model.fit(X, y)\n",
    "\n",
    "# Save enriched data\n",
    "df.to_sql('enriched_ais_data', conn, if_exists='replace', index=False)"
   ]
  }
 ],
 "metadata": {
  "language_info": {
   "name": "python"
  }
 },
 "nbformat": 4,
 "nbformat_minor": 2
}
